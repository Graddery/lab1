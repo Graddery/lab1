{
  "cells": [
    {
      "cell_type": "markdown",
      "metadata": {
        "id": "M-DGa20PaHnu"
      },
      "source": [
        "#Задача 1\n",
        "Написать функцию на вход которой подается строка, состоящая из латинских букв.\n",
        "Функция должна вернуть количество гласных букв (a, e, i, o, u) в этой строке. Написать тесты для кода"
      ]
    },
    {
      "cell_type": "code",
      "execution_count": 13,
      "metadata": {
        "id": "XvX8X_JJ6PCb"
      },
      "outputs": [],
      "source": [
        "vowels=['a','e','i','o','u']\n",
        "\n",
        "def checkVowels(str):\n",
        "    countVowels=0\n",
        "    for i in str.lower():\n",
        "        if(i in vowels):\n",
        "            countVowels+=1\n",
        "    return countVowels\n",
        "\n",
        "def countVowels_tests():\n",
        "    assert checkVowels('Hello world man') == 4\n",
        "    assert checkVowels('ouea') == 4\n",
        "    assert checkVowels('urfU') == 2\n",
        "    assert checkVowels('lktfg') == 0\n",
        "    assert checkVowels('AaBbCcDdEe') == 4\n",
        "      \n",
        "countVowels_tests()"
      ]
    },
    {
      "cell_type": "markdown",
      "metadata": {
        "id": "t2ClV_Y0bbr6"
      },
      "source": [
        "# Задача 2\n",
        "Написать функцию на вход, которой подается строка. Функция должна вернуть true, если\n",
        "каждый символ в строке встречается только 1 раз, иначе должна вернуть false. Написать тесты для кода"
      ]
    },
    {
      "cell_type": "code",
      "execution_count": 16,
      "metadata": {
        "id": "FppbECao6VIz"
      },
      "outputs": [],
      "source": [
        "def unique(string):\n",
        "    countChar = {}\n",
        "    for char in string:\n",
        "        if char in countChar:\n",
        "            return False\n",
        "        countChar[char] = 1\n",
        "    return True\n",
        "\n",
        "def unique_tests():\n",
        "    assert unique('oleg') == True\n",
        "    assert unique('urfu') == False\n",
        "    \n",
        "unique_tests()"
      ]
    },
    {
      "cell_type": "markdown",
      "metadata": {
        "id": "udRiIK1cdt6E"
      },
      "source": [
        "# Задача 3\n",
        "Написать функцию, которая принимает положительное число и возвращает количество\n",
        "бит равных 1 в этом числе. Написать тесты для кода"
      ]
    },
    {
      "cell_type": "code",
      "execution_count": 18,
      "metadata": {
        "id": "6tkfDJRz6dp_"
      },
      "outputs": [],
      "source": [
        "def bitCount(number):\n",
        "    countBit=0\n",
        "    for b in bin(number):\n",
        "        if b=='1':\n",
        "            countBit+=1\n",
        "    return countBit\n",
        "\n",
        "def bitCount_tests():\n",
        "    assert bitCount(64) == 1\n",
        "    assert bitCount(63) == 6\n",
        "    \n",
        "bitCount_tests()"
      ]
    },
    {
      "cell_type": "markdown",
      "metadata": {
        "id": "26dDUz-Ae17N"
      },
      "source": [
        "# Задача 4\n",
        "Написать функцию, которая принимает положительное число. Функция должна вернуть то,\n",
        "сколько раз необходимо перемножать цифры числа или результат перемножения, чтобы\n",
        "получилось число состоящее из одной цифры.\n",
        "Например, для входного числа:\n",
        "· 39 функция должна вернуть 3, так как 3*9=27 => 2*7=14 => 1*4=4\n",
        "· 4 функция должна вернуть 0, так как число уже состоит из одной цифры\n",
        "· 999 функция должна вернуть 4, так как 9*9*9=729 => 7*2*9=126 => 1*2*6=12 =>\n",
        "1*2=2. Написать тесты для кода"
      ]
    },
    {
      "cell_type": "code",
      "execution_count": 19,
      "metadata": {
        "id": "BH1A_Mgi6i4G"
      },
      "outputs": [],
      "source": [
        "def magic(n):\n",
        "    if n < 10:\n",
        "        return 0\n",
        "    else:\n",
        "        count = 0\n",
        "        while n >= 10:\n",
        "            r = 1\n",
        "            for i in str(n):\n",
        "                r = r * int(i)\n",
        "            n = r\n",
        "            count += 1\n",
        "        return count\n",
        "    \n",
        "def magic_tests():\n",
        "    assert magic(39) == 3\n",
        "    assert magic(4) == 0\n",
        "    assert magic(999) == 4\n",
        "    \n",
        "magic_tests()"
      ]
    },
    {
      "cell_type": "markdown",
      "metadata": {
        "id": "0nS-kIa8g8vd"
      },
      "source": [
        "# Задача 5\n",
        "Написать функцию, которая принимает два целочисленных вектора одинаковой длины и\n",
        "возвращает среднеквадратическое отклонение двух векторов. Написать тесты для кода"
      ]
    },
    {
      "cell_type": "code",
      "execution_count": 34,
      "metadata": {
        "id": "8iphx4LM6xbx"
      },
      "outputs": [],
      "source": [
        "def mse(pred, true):\n",
        "    if len(pred) != len(true):\n",
        "        print(\"Векторы не одинаковой длины\")\n",
        "        \n",
        "    res=0\n",
        "    length = len(pred)\n",
        "    for i in range(length):\n",
        "        res = res + ((true[i]-pred[i])**2)\n",
        "    return res/length\n",
        "\n",
        "def mse_tests():\n",
        "    assert mse([1,1,1],[1,1,1]) == 0\n",
        "    assert mse([1,2,3,4],[5,6,7,8]) == 16\n",
        "    \n",
        "mse_tests()"
      ]
    },
    {
      "cell_type": "markdown",
      "metadata": {
        "id": "vpIPKL439zkw"
      },
      "source": [
        "# Задача 6\n",
        "Написать функцию, принимающая целое положительное число. Функция должна вернуть\n",
        "строку вида “(n1**p1)(n2**p2)…(nk**pk)” представляющая разложение числа на простые\n",
        "множители (если pi == 1, то выводить только ni).\n",
        "Например, для числа 86240 функция должна вернуть “(2**5)(5)(7**2)(11)”. Написать тесты для кода"
      ]
    },
    {
      "cell_type": "code",
      "execution_count": 56,
      "metadata": {
        "id": "pFebmcZk94Jw"
      },
      "outputs": [],
      "source": [
        "def task6(number):\n",
        "    res = str()\n",
        "    i = 2\n",
        "    count = 0\n",
        "    while True:\n",
        "        if number%i == 0:\n",
        "            count += 1\n",
        "            number //= i\n",
        "        else:\n",
        "            res += f\"({i}**{count})\" if count>1 else f\"({i})\" if count==1 else \"\"\n",
        "            i += 1\n",
        "            count=0\n",
        "        if number == 1: break\n",
        "        \n",
        "    return res"
      ]
    },
    {
      "cell_type": "markdown",
      "metadata": {
        "id": "ps2s0BudX7A2"
      },
      "source": [
        "# Задача 7\n",
        "Написать функцию, принимающая целое число n, задающее количество кубиков. Функция\n",
        "должна определить, можно ли из данного кол-ва кубиков построить пирамиду, то есть\n",
        "можно ли представить число n как 1^2+2^2+3^2+…+k^2. Если можно, то функция должна\n",
        "вернуть k, иначе строку “It is impossible”. Написать тесты для кода"
      ]
    },
    {
      "cell_type": "code",
      "execution_count": 72,
      "metadata": {
        "id": "3YPjEXxhX_YT"
      },
      "outputs": [],
      "source": [
        "def pyramid(number):\n",
        "    count=1\n",
        "    number_s = number\n",
        "    while(number_s > 0):\n",
        "        number_s -= count**2\n",
        "        count += 1\n",
        "    return count-1 if (number != 0 and number_s == 0) else 'It is impossible'\n",
        "\n",
        "def pyramid_tests():\n",
        "    assert pyramid(1) == 1\n",
        "    assert pyramid(5) == 2\n",
        "    assert pyramid(40) == 'It is impossible'\n",
        "    assert pyramid(0) =='It is impossible'\n",
        "    \n",
        "pyramid_tests()"
      ]
    },
    {
      "cell_type": "markdown",
      "metadata": {
        "id": "KeKgmIdAQMEJ"
      },
      "source": [
        "# Задача 8\n",
        "Функция принимает на вход положительное число и определяет является ли оно сбалансированным, т.е. сумма цифр до средних равна сумме цифр после. Средними в случае нечетного числа цифр считать одну цифру, в случае четного - две средних. Написать тесты для кода"
      ]
    },
    {
      "cell_type": "code",
      "execution_count": 76,
      "metadata": {
        "id": "gMAAqtqlQrZt"
      },
      "outputs": [],
      "source": [
        "def balanced(number):\n",
        "    str_number = str(number)\n",
        "    length = len(str_number)\n",
        "    first_half = sum(map(int, str_number[:length // 2]))\n",
        "    second_half = sum(map(int, str_number[length // 2 + length % 2:]))\n",
        "    return first_half == second_half\n",
        "\n",
        "def balanced_tests():\n",
        "    assert balanced(12321) == True\n",
        "    assert balanced(123456) == False\n",
        "    assert balanced(987879) == True\n",
        "    assert balanced(432345) == False\n",
        "    assert balanced(0) == True\n",
        "    assert balanced(1010101) == True\n",
        "\n",
        "balanced_tests()"
      ]
    }
  ],
  "metadata": {
    "colab": {
      "provenance": []
    },
    "kernelspec": {
      "display_name": "Python 3",
      "name": "python3"
    },
    "language_info": {
      "codemirror_mode": {
        "name": "ipython",
        "version": 3
      },
      "file_extension": ".py",
      "mimetype": "text/x-python",
      "name": "python",
      "nbconvert_exporter": "python",
      "pygments_lexer": "ipython3",
      "version": "3.12.0"
    }
  },
  "nbformat": 4,
  "nbformat_minor": 0
}
